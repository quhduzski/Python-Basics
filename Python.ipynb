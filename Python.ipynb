{
  "metadata": {
    "language_info": {
      "codemirror_mode": {
        "name": "python",
        "version": 3
      },
      "file_extension": ".py",
      "mimetype": "text/x-python",
      "name": "python",
      "nbconvert_exporter": "python",
      "pygments_lexer": "ipython3",
      "version": "3.8"
    },
    "kernelspec": {
      "name": "python",
      "display_name": "Python (Pyodide)",
      "language": "python"
    }
  },
  "nbformat_minor": 4,
  "nbformat": 4,
  "cells": [
    {
      "cell_type": "code",
      "source": "a=5\nb=7\na+b",
      "metadata": {
        "trusted": true
      },
      "execution_count": 247,
      "outputs": [
        {
          "execution_count": 247,
          "output_type": "execute_result",
          "data": {
            "text/plain": "12"
          },
          "metadata": {}
        }
      ]
    },
    {
      "cell_type": "code",
      "source": "Name='Aliu Qudus'\nName",
      "metadata": {
        "trusted": true
      },
      "execution_count": 248,
      "outputs": [
        {
          "execution_count": 248,
          "output_type": "execute_result",
          "data": {
            "text/plain": "'Aliu Qudus'"
          },
          "metadata": {}
        }
      ]
    },
    {
      "cell_type": "code",
      "source": "Name.capitalize()",
      "metadata": {
        "trusted": true
      },
      "execution_count": 249,
      "outputs": [
        {
          "execution_count": 249,
          "output_type": "execute_result",
          "data": {
            "text/plain": "'Aliu qudus'"
          },
          "metadata": {}
        }
      ]
    },
    {
      "cell_type": "code",
      "source": "Name",
      "metadata": {
        "trusted": true
      },
      "execution_count": 250,
      "outputs": [
        {
          "execution_count": 250,
          "output_type": "execute_result",
          "data": {
            "text/plain": "'Aliu Qudus'"
          },
          "metadata": {}
        }
      ]
    },
    {
      "cell_type": "code",
      "source": "print(Name.isalnum())\nprint(Name.isalpha())\nprint(Name.istitle())\nprint(Name.isdecimal())\nprint(Name.isdigit())\nprint(Name.isupper())\nprint(Name.islower())\nprint(Name.isnumeric())\nprint(Name.endswith('d'))\nprint(Name.startswith('o'))",
      "metadata": {
        "trusted": true
      },
      "execution_count": 251,
      "outputs": [
        {
          "name": "stdout",
          "text": "False\nFalse\nTrue\nFalse\nFalse\nFalse\nFalse\nFalse\nFalse\nFalse\n",
          "output_type": "stream"
        }
      ]
    },
    {
      "cell_type": "code",
      "source": "print(\"My Name is \"  + Name +  \" and I am a Male\")",
      "metadata": {
        "trusted": true
      },
      "execution_count": 252,
      "outputs": [
        {
          "name": "stdout",
          "text": "My Name is Aliu Qudus and I am a Male\n",
          "output_type": "stream"
        }
      ]
    },
    {
      "cell_type": "code",
      "source": "a",
      "metadata": {
        "trusted": true
      },
      "execution_count": 253,
      "outputs": [
        {
          "execution_count": 253,
          "output_type": "execute_result",
          "data": {
            "text/plain": "5"
          },
          "metadata": {}
        }
      ]
    },
    {
      "cell_type": "markdown",
      "source": "# List\n\n- Append\n- Extend\n- Pop\n- Insert\n- Copy",
      "metadata": {}
    },
    {
      "cell_type": "code",
      "source": "List= [1,2,3,'Aliu','Qudus',56]\nList",
      "metadata": {
        "trusted": true
      },
      "execution_count": 254,
      "outputs": [
        {
          "execution_count": 254,
          "output_type": "execute_result",
          "data": {
            "text/plain": "[1, 2, 3, 'Aliu', 'Qudus', 56]"
          },
          "metadata": {}
        }
      ]
    },
    {
      "cell_type": "code",
      "source": "List.append('Banana')\nList",
      "metadata": {
        "trusted": true
      },
      "execution_count": 255,
      "outputs": [
        {
          "execution_count": 255,
          "output_type": "execute_result",
          "data": {
            "text/plain": "[1, 2, 3, 'Aliu', 'Qudus', 56, 'Banana']"
          },
          "metadata": {}
        }
      ]
    },
    {
      "cell_type": "code",
      "source": "List.pop(1) # Pop the value of the index provided and delete it from the list",
      "metadata": {
        "trusted": true
      },
      "execution_count": 256,
      "outputs": [
        {
          "execution_count": 256,
          "output_type": "execute_result",
          "data": {
            "text/plain": "2"
          },
          "metadata": {}
        }
      ]
    },
    {
      "cell_type": "code",
      "source": "List",
      "metadata": {
        "trusted": true
      },
      "execution_count": 257,
      "outputs": [
        {
          "execution_count": 257,
          "output_type": "execute_result",
          "data": {
            "text/plain": "[1, 3, 'Aliu', 'Qudus', 56, 'Banana']"
          },
          "metadata": {}
        }
      ]
    },
    {
      "cell_type": "code",
      "source": "List1=List.copy()\n# Append is used to insert just a single argument in a list\nList1.append('Pineapple')\nList1",
      "metadata": {
        "trusted": true
      },
      "execution_count": 258,
      "outputs": [
        {
          "execution_count": 258,
          "output_type": "execute_result",
          "data": {
            "text/plain": "[1, 3, 'Aliu', 'Qudus', 56, 'Banana', 'Pineapple']"
          },
          "metadata": {}
        }
      ]
    },
    {
      "cell_type": "code",
      "source": "# Extend is used to insert my argument in a lisy\nList1.extend(['Apple','Rake',45])\nList1",
      "metadata": {
        "trusted": true
      },
      "execution_count": 259,
      "outputs": [
        {
          "execution_count": 259,
          "output_type": "execute_result",
          "data": {
            "text/plain": "[1, 3, 'Aliu', 'Qudus', 56, 'Banana', 'Pineapple', 'Apple', 'Rake', 45]"
          },
          "metadata": {}
        }
      ]
    },
    {
      "cell_type": "code",
      "source": "len(List1)",
      "metadata": {
        "trusted": true
      },
      "execution_count": 260,
      "outputs": [
        {
          "execution_count": 260,
          "output_type": "execute_result",
          "data": {
            "text/plain": "10"
          },
          "metadata": {}
        }
      ]
    },
    {
      "cell_type": "code",
      "source": "List1[1]=30\nList1",
      "metadata": {
        "trusted": true
      },
      "execution_count": 261,
      "outputs": [
        {
          "execution_count": 261,
          "output_type": "execute_result",
          "data": {
            "text/plain": "[1, 30, 'Aliu', 'Qudus', 56, 'Banana', 'Pineapple', 'Apple', 'Rake', 45]"
          },
          "metadata": {}
        }
      ]
    },
    {
      "cell_type": "code",
      "source": "List2=List1.copy()\nList2",
      "metadata": {
        "trusted": true
      },
      "execution_count": 262,
      "outputs": [
        {
          "execution_count": 262,
          "output_type": "execute_result",
          "data": {
            "text/plain": "[1, 30, 'Aliu', 'Qudus', 56, 'Banana', 'Pineapple', 'Apple', 'Rake', 45]"
          },
          "metadata": {}
        }
      ]
    },
    {
      "cell_type": "code",
      "source": "List2.clear()",
      "metadata": {
        "trusted": true
      },
      "execution_count": 263,
      "outputs": []
    },
    {
      "cell_type": "code",
      "source": "List2",
      "metadata": {
        "trusted": true
      },
      "execution_count": 264,
      "outputs": [
        {
          "execution_count": 264,
          "output_type": "execute_result",
          "data": {
            "text/plain": "[]"
          },
          "metadata": {}
        }
      ]
    },
    {
      "cell_type": "code",
      "source": "List2.reverse()",
      "metadata": {
        "trusted": true
      },
      "execution_count": 265,
      "outputs": []
    },
    {
      "cell_type": "code",
      "source": "List2",
      "metadata": {
        "trusted": true
      },
      "execution_count": 266,
      "outputs": [
        {
          "execution_count": 266,
          "output_type": "execute_result",
          "data": {
            "text/plain": "[]"
          },
          "metadata": {}
        }
      ]
    },
    {
      "cell_type": "code",
      "source": "List2.insert(1,'Apple')\nList2",
      "metadata": {
        "trusted": true
      },
      "execution_count": 267,
      "outputs": [
        {
          "execution_count": 267,
          "output_type": "execute_result",
          "data": {
            "text/plain": "['Apple']"
          },
          "metadata": {}
        }
      ]
    },
    {
      "cell_type": "code",
      "source": "List2.insert(0,'Orange')\nList2",
      "metadata": {
        "trusted": true
      },
      "execution_count": 268,
      "outputs": [
        {
          "execution_count": 268,
          "output_type": "execute_result",
          "data": {
            "text/plain": "['Orange', 'Apple']"
          },
          "metadata": {}
        }
      ]
    },
    {
      "cell_type": "code",
      "source": "List2.insert(2,'Grape')\nList2",
      "metadata": {
        "trusted": true
      },
      "execution_count": 269,
      "outputs": [
        {
          "execution_count": 269,
          "output_type": "execute_result",
          "data": {
            "text/plain": "['Orange', 'Apple', 'Grape']"
          },
          "metadata": {}
        }
      ]
    },
    {
      "cell_type": "code",
      "source": "# count returns the number of time an element occur in a list.\nList2.count('Apple')",
      "metadata": {
        "trusted": true
      },
      "execution_count": 270,
      "outputs": [
        {
          "execution_count": 270,
          "output_type": "execute_result",
          "data": {
            "text/plain": "1"
          },
          "metadata": {}
        }
      ]
    },
    {
      "cell_type": "code",
      "source": "List2.count('Grape')",
      "metadata": {
        "trusted": true
      },
      "execution_count": 271,
      "outputs": [
        {
          "execution_count": 271,
          "output_type": "execute_result",
          "data": {
            "text/plain": "1"
          },
          "metadata": {}
        }
      ]
    },
    {
      "cell_type": "code",
      "source": "# It returns the index of the given parameter in a list and mostly returns the first index value.\nList2.index('Apple',0,5)",
      "metadata": {
        "trusted": true
      },
      "execution_count": 272,
      "outputs": [
        {
          "execution_count": 272,
          "output_type": "execute_result",
          "data": {
            "text/plain": "1"
          },
          "metadata": {}
        }
      ]
    },
    {
      "cell_type": "code",
      "source": "# While the 1,5 is used to specify the range where the index should start and end.\nList2.index('Orange',1,5)",
      "metadata": {
        "trusted": true
      },
      "execution_count": 273,
      "outputs": [
        {
          "ename": "<class 'ValueError'>",
          "evalue": "'Orange' is not in list",
          "traceback": [
            "\u001b[0;31m---------------------------------------------------------------------------\u001b[0m",
            "\u001b[0;31mValueError\u001b[0m                                Traceback (most recent call last)",
            "Cell \u001b[0;32mIn[273], line 2\u001b[0m\n\u001b[1;32m      1\u001b[0m \u001b[38;5;66;03m# While the 1,5 is used to specify the range where the index should start and end.\u001b[39;00m\n\u001b[0;32m----> 2\u001b[0m \u001b[43mList2\u001b[49m\u001b[38;5;241;43m.\u001b[39;49m\u001b[43mindex\u001b[49m\u001b[43m(\u001b[49m\u001b[38;5;124;43m'\u001b[39;49m\u001b[38;5;124;43mOrange\u001b[39;49m\u001b[38;5;124;43m'\u001b[39;49m\u001b[43m,\u001b[49m\u001b[38;5;241;43m1\u001b[39;49m\u001b[43m,\u001b[49m\u001b[38;5;241;43m5\u001b[39;49m\u001b[43m)\u001b[49m\n",
            "\u001b[0;31mValueError\u001b[0m: 'Orange' is not in list"
          ],
          "output_type": "error"
        }
      ]
    },
    {
      "cell_type": "code",
      "source": "max(List2)",
      "metadata": {
        "trusted": true
      },
      "execution_count": 274,
      "outputs": [
        {
          "execution_count": 274,
          "output_type": "execute_result",
          "data": {
            "text/plain": "'Orange'"
          },
          "metadata": {}
        }
      ]
    },
    {
      "cell_type": "code",
      "source": "min(List2)",
      "metadata": {
        "trusted": true
      },
      "execution_count": 275,
      "outputs": [
        {
          "execution_count": 275,
          "output_type": "execute_result",
          "data": {
            "text/plain": "'Apple'"
          },
          "metadata": {}
        }
      ]
    },
    {
      "cell_type": "code",
      "source": "len(List2)",
      "metadata": {
        "trusted": true
      },
      "execution_count": 276,
      "outputs": [
        {
          "execution_count": 276,
          "output_type": "execute_result",
          "data": {
            "text/plain": "3"
          },
          "metadata": {}
        }
      ]
    },
    {
      "cell_type": "code",
      "source": "# This will make the list double.\nList2*2",
      "metadata": {
        "trusted": true
      },
      "execution_count": 277,
      "outputs": [
        {
          "execution_count": 277,
          "output_type": "execute_result",
          "data": {
            "text/plain": "['Orange', 'Apple', 'Grape', 'Orange', 'Apple', 'Grape']"
          },
          "metadata": {}
        }
      ]
    },
    {
      "cell_type": "markdown",
      "source": "# Sets, Dctionary, and Tuples",
      "metadata": {}
    },
    {
      "cell_type": "markdown",
      "source": "### Sets",
      "metadata": {}
    },
    {
      "cell_type": "code",
      "source": "set1={1,2,3,4,5}\nset2={5,6,7,8,9}",
      "metadata": {
        "trusted": true
      },
      "execution_count": 278,
      "outputs": []
    },
    {
      "cell_type": "code",
      "source": "set1",
      "metadata": {
        "trusted": true
      },
      "execution_count": 279,
      "outputs": [
        {
          "execution_count": 279,
          "output_type": "execute_result",
          "data": {
            "text/plain": "{1, 2, 3, 4, 5}"
          },
          "metadata": {}
        }
      ]
    },
    {
      "cell_type": "code",
      "source": "set2",
      "metadata": {
        "trusted": true
      },
      "execution_count": 280,
      "outputs": [
        {
          "execution_count": 280,
          "output_type": "execute_result",
          "data": {
            "text/plain": "{5, 6, 7, 8, 9}"
          },
          "metadata": {}
        }
      ]
    },
    {
      "cell_type": "code",
      "source": "set1.difference(set2)",
      "metadata": {
        "trusted": true
      },
      "execution_count": 281,
      "outputs": [
        {
          "execution_count": 281,
          "output_type": "execute_result",
          "data": {
            "text/plain": "{1, 2, 3, 4}"
          },
          "metadata": {}
        }
      ]
    },
    {
      "cell_type": "code",
      "source": "set1",
      "metadata": {
        "trusted": true
      },
      "execution_count": 282,
      "outputs": [
        {
          "execution_count": 282,
          "output_type": "execute_result",
          "data": {
            "text/plain": "{1, 2, 3, 4, 5}"
          },
          "metadata": {}
        }
      ]
    },
    {
      "cell_type": "code",
      "source": "set1.union(set2)",
      "metadata": {
        "trusted": true
      },
      "execution_count": 283,
      "outputs": [
        {
          "execution_count": 283,
          "output_type": "execute_result",
          "data": {
            "text/plain": "{1, 2, 3, 4, 5, 6, 7, 8, 9}"
          },
          "metadata": {}
        }
      ]
    },
    {
      "cell_type": "code",
      "source": "set2.symmetric_difference(set1)",
      "metadata": {
        "trusted": true
      },
      "execution_count": 284,
      "outputs": [
        {
          "execution_count": 284,
          "output_type": "execute_result",
          "data": {
            "text/plain": "{1, 2, 3, 4, 6, 7, 8, 9}"
          },
          "metadata": {}
        }
      ]
    },
    {
      "cell_type": "code",
      "source": "set3=set2.copy()\nset3",
      "metadata": {
        "trusted": true
      },
      "execution_count": 285,
      "outputs": [
        {
          "execution_count": 285,
          "output_type": "execute_result",
          "data": {
            "text/plain": "{5, 6, 7, 8, 9}"
          },
          "metadata": {}
        }
      ]
    },
    {
      "cell_type": "code",
      "source": "set3.clear()",
      "metadata": {
        "trusted": true
      },
      "execution_count": 286,
      "outputs": []
    },
    {
      "cell_type": "code",
      "source": "set3",
      "metadata": {
        "trusted": true
      },
      "execution_count": 287,
      "outputs": [
        {
          "execution_count": 287,
          "output_type": "execute_result",
          "data": {
            "text/plain": "set()"
          },
          "metadata": {}
        }
      ]
    },
    {
      "cell_type": "code",
      "source": "set1.add(12)\nset1",
      "metadata": {
        "trusted": true
      },
      "execution_count": 288,
      "outputs": [
        {
          "execution_count": 288,
          "output_type": "execute_result",
          "data": {
            "text/plain": "{1, 2, 3, 4, 5, 12}"
          },
          "metadata": {}
        }
      ]
    },
    {
      "cell_type": "code",
      "source": "set3={'Thor','Hulk','Iron Man','SuoerMan'}\nset3",
      "metadata": {
        "trusted": true
      },
      "execution_count": 289,
      "outputs": [
        {
          "execution_count": 289,
          "output_type": "execute_result",
          "data": {
            "text/plain": "{'Hulk', 'Iron Man', 'SuoerMan', 'Thor'}"
          },
          "metadata": {}
        }
      ]
    },
    {
      "cell_type": "code",
      "source": "'set1'and'set2'",
      "metadata": {
        "trusted": true
      },
      "execution_count": 290,
      "outputs": [
        {
          "execution_count": 290,
          "output_type": "execute_result",
          "data": {
            "text/plain": "'set2'"
          },
          "metadata": {}
        }
      ]
    },
    {
      "cell_type": "code",
      "source": "'set1'or'set2'",
      "metadata": {
        "trusted": true
      },
      "execution_count": 291,
      "outputs": [
        {
          "execution_count": 291,
          "output_type": "execute_result",
          "data": {
            "text/plain": "'set1'"
          },
          "metadata": {}
        }
      ]
    },
    {
      "cell_type": "code",
      "source": "set1",
      "metadata": {
        "trusted": true
      },
      "execution_count": 292,
      "outputs": [
        {
          "execution_count": 292,
          "output_type": "execute_result",
          "data": {
            "text/plain": "{1, 2, 3, 4, 5, 12}"
          },
          "metadata": {}
        }
      ]
    },
    {
      "cell_type": "code",
      "source": "set2",
      "metadata": {
        "trusted": true
      },
      "execution_count": 293,
      "outputs": [
        {
          "execution_count": 293,
          "output_type": "execute_result",
          "data": {
            "text/plain": "{5, 6, 7, 8, 9}"
          },
          "metadata": {}
        }
      ]
    },
    {
      "cell_type": "code",
      "source": "set1.intersection(set2)",
      "metadata": {
        "trusted": true
      },
      "execution_count": 294,
      "outputs": [
        {
          "execution_count": 294,
          "output_type": "execute_result",
          "data": {
            "text/plain": "{5}"
          },
          "metadata": {}
        }
      ]
    },
    {
      "cell_type": "markdown",
      "source": "### Tuples",
      "metadata": {}
    },
    {
      "cell_type": "code",
      "source": "t1=(1,2,3,4,5,5,4,4,5,2)\nt2=(6,7,8,9,10)\n\nt2",
      "metadata": {
        "trusted": true
      },
      "execution_count": 295,
      "outputs": [
        {
          "execution_count": 295,
          "output_type": "execute_result",
          "data": {
            "text/plain": "(6, 7, 8, 9, 10)"
          },
          "metadata": {}
        }
      ]
    },
    {
      "cell_type": "code",
      "source": "t1[2]",
      "metadata": {
        "trusted": true
      },
      "execution_count": 296,
      "outputs": [
        {
          "execution_count": 296,
          "output_type": "execute_result",
          "data": {
            "text/plain": "3"
          },
          "metadata": {}
        }
      ]
    },
    {
      "cell_type": "code",
      "source": "type(t1)",
      "metadata": {
        "trusted": true
      },
      "execution_count": 297,
      "outputs": [
        {
          "execution_count": 297,
          "output_type": "execute_result",
          "data": {
            "text/plain": "tuple"
          },
          "metadata": {}
        }
      ]
    },
    {
      "cell_type": "code",
      "source": "t1.count(5)",
      "metadata": {
        "trusted": true
      },
      "execution_count": 298,
      "outputs": [
        {
          "execution_count": 298,
          "output_type": "execute_result",
          "data": {
            "text/plain": "3"
          },
          "metadata": {}
        }
      ]
    },
    {
      "cell_type": "code",
      "source": "t1.index(5)",
      "metadata": {
        "trusted": true
      },
      "execution_count": 299,
      "outputs": [
        {
          "execution_count": 299,
          "output_type": "execute_result",
          "data": {
            "text/plain": "4"
          },
          "metadata": {}
        }
      ]
    },
    {
      "cell_type": "code",
      "source": "t2.index(9)",
      "metadata": {
        "trusted": true
      },
      "execution_count": 300,
      "outputs": [
        {
          "execution_count": 300,
          "output_type": "execute_result",
          "data": {
            "text/plain": "3"
          },
          "metadata": {}
        }
      ]
    },
    {
      "cell_type": "markdown",
      "source": "### Dictionary",
      "metadata": {}
    },
    {
      "cell_type": "code",
      "source": "dict1={'car':\"Benz\",'Phone':'Samsung & Iphone','Club':'Manchester United','Country':'Nigeria','Religion':'Islam'}\ndict1",
      "metadata": {
        "trusted": true
      },
      "execution_count": 301,
      "outputs": [
        {
          "execution_count": 301,
          "output_type": "execute_result",
          "data": {
            "text/plain": "{'car': 'Benz',\n 'Phone': 'Samsung & Iphone',\n 'Club': 'Manchester United',\n 'Country': 'Nigeria',\n 'Religion': 'Islam'}"
          },
          "metadata": {}
        }
      ]
    },
    {
      "cell_type": "code",
      "source": "dict1.keys()",
      "metadata": {
        "trusted": true
      },
      "execution_count": 302,
      "outputs": [
        {
          "execution_count": 302,
          "output_type": "execute_result",
          "data": {
            "text/plain": "dict_keys(['car', 'Phone', 'Club', 'Country', 'Religion'])"
          },
          "metadata": {}
        }
      ]
    },
    {
      "cell_type": "code",
      "source": "dict1.values()",
      "metadata": {
        "trusted": true
      },
      "execution_count": 303,
      "outputs": [
        {
          "execution_count": 303,
          "output_type": "execute_result",
          "data": {
            "text/plain": "dict_values(['Benz', 'Samsung & Iphone', 'Manchester United', 'Nigeria', 'Islam'])"
          },
          "metadata": {}
        }
      ]
    },
    {
      "cell_type": "code",
      "source": "dict1.items()",
      "metadata": {
        "trusted": true
      },
      "execution_count": 304,
      "outputs": [
        {
          "execution_count": 304,
          "output_type": "execute_result",
          "data": {
            "text/plain": "dict_items([('car', 'Benz'), ('Phone', 'Samsung & Iphone'), ('Club', 'Manchester United'), ('Country', 'Nigeria'), ('Religion', 'Islam')])"
          },
          "metadata": {}
        }
      ]
    },
    {
      "cell_type": "code",
      "source": "dict1.update({'Goal':'Jannah'})\ndict1",
      "metadata": {
        "trusted": true
      },
      "execution_count": 305,
      "outputs": [
        {
          "execution_count": 305,
          "output_type": "execute_result",
          "data": {
            "text/plain": "{'car': 'Benz',\n 'Phone': 'Samsung & Iphone',\n 'Club': 'Manchester United',\n 'Country': 'Nigeria',\n 'Religion': 'Islam',\n 'Goal': 'Jannah'}"
          },
          "metadata": {}
        }
      ]
    },
    {
      "cell_type": "code",
      "source": "for x in dict1:\n    print(x)",
      "metadata": {
        "trusted": true
      },
      "execution_count": 306,
      "outputs": [
        {
          "name": "stdout",
          "text": "car\nPhone\nClub\nCountry\nReligion\nGoal\n",
          "output_type": "stream"
        }
      ]
    },
    {
      "cell_type": "code",
      "source": "for x in dict1.keys():\n    print(x)",
      "metadata": {
        "trusted": true
      },
      "execution_count": 307,
      "outputs": [
        {
          "name": "stdout",
          "text": "car\nPhone\nClub\nCountry\nReligion\nGoal\n",
          "output_type": "stream"
        }
      ]
    },
    {
      "cell_type": "code",
      "source": "for x in dict1.values():\n    print(x)",
      "metadata": {
        "trusted": true
      },
      "execution_count": 308,
      "outputs": [
        {
          "name": "stdout",
          "text": "Benz\nSamsung & Iphone\nManchester United\nNigeria\nIslam\nJannah\n",
          "output_type": "stream"
        }
      ]
    },
    {
      "cell_type": "code",
      "source": "for x in dict1.items():\n    print(x)",
      "metadata": {
        "trusted": true
      },
      "execution_count": 309,
      "outputs": [
        {
          "name": "stdout",
          "text": "('car', 'Benz')\n('Phone', 'Samsung & Iphone')\n('Club', 'Manchester United')\n('Country', 'Nigeria')\n('Religion', 'Islam')\n('Goal', 'Jannah')\n",
          "output_type": "stream"
        }
      ]
    },
    {
      "cell_type": "code",
      "source": "dict1['car']",
      "metadata": {
        "trusted": true
      },
      "execution_count": 310,
      "outputs": [
        {
          "execution_count": 310,
          "output_type": "execute_result",
          "data": {
            "text/plain": "'Benz'"
          },
          "metadata": {}
        }
      ]
    },
    {
      "cell_type": "code",
      "source": "# Adding a new value to the dictionary.\ndict1['State']='Kwara State'",
      "metadata": {
        "trusted": true
      },
      "execution_count": 311,
      "outputs": []
    },
    {
      "cell_type": "code",
      "source": "dict1",
      "metadata": {
        "trusted": true
      },
      "execution_count": 312,
      "outputs": [
        {
          "execution_count": 312,
          "output_type": "execute_result",
          "data": {
            "text/plain": "{'car': 'Benz',\n 'Phone': 'Samsung & Iphone',\n 'Club': 'Manchester United',\n 'Country': 'Nigeria',\n 'Religion': 'Islam',\n 'Goal': 'Jannah',\n 'State': 'Kwara State'}"
          },
          "metadata": {}
        }
      ]
    },
    {
      "cell_type": "code",
      "source": "# Replaced the value for car from Benz to Lamborghini.\ndict1['car']='Lamborghini'",
      "metadata": {
        "trusted": true
      },
      "execution_count": 313,
      "outputs": []
    },
    {
      "cell_type": "code",
      "source": "dict1",
      "metadata": {
        "trusted": true
      },
      "execution_count": 314,
      "outputs": [
        {
          "execution_count": 314,
          "output_type": "execute_result",
          "data": {
            "text/plain": "{'car': 'Lamborghini',\n 'Phone': 'Samsung & Iphone',\n 'Club': 'Manchester United',\n 'Country': 'Nigeria',\n 'Religion': 'Islam',\n 'Goal': 'Jannah',\n 'State': 'Kwara State'}"
          },
          "metadata": {}
        }
      ]
    },
    {
      "cell_type": "markdown",
      "source": "### Nested Dictionary",
      "metadata": {}
    },
    {
      "cell_type": "code",
      "source": "Religion1={'Islam':'Quran'}\nReligion2={'Jew':'Torah'}\nReligion3={'Christain':'Bible'}\n\nCategories= {'Tawheed':Religion1, 'Shirk1':Religion2,'Shirk2':Religion3}",
      "metadata": {
        "trusted": true
      },
      "execution_count": 315,
      "outputs": []
    },
    {
      "cell_type": "code",
      "source": "Categories",
      "metadata": {
        "trusted": true
      },
      "execution_count": 316,
      "outputs": [
        {
          "execution_count": 316,
          "output_type": "execute_result",
          "data": {
            "text/plain": "{'Tawheed': {'Islam': 'Quran'},\n 'Shirk1': {'Jew': 'Torah'},\n 'Shirk2': {'Christain': 'Bible'}}"
          },
          "metadata": {}
        }
      ]
    },
    {
      "cell_type": "code",
      "source": "Categories.keys()",
      "metadata": {
        "trusted": true
      },
      "execution_count": 317,
      "outputs": [
        {
          "execution_count": 317,
          "output_type": "execute_result",
          "data": {
            "text/plain": "dict_keys(['Tawheed', 'Shirk1', 'Shirk2'])"
          },
          "metadata": {}
        }
      ]
    },
    {
      "cell_type": "code",
      "source": "Categories.values()",
      "metadata": {
        "trusted": true
      },
      "execution_count": 318,
      "outputs": [
        {
          "execution_count": 318,
          "output_type": "execute_result",
          "data": {
            "text/plain": "dict_values([{'Islam': 'Quran'}, {'Jew': 'Torah'}, {'Christain': 'Bible'}])"
          },
          "metadata": {}
        }
      ]
    },
    {
      "cell_type": "code",
      "source": "Categories.items()",
      "metadata": {
        "trusted": true
      },
      "execution_count": 319,
      "outputs": [
        {
          "execution_count": 319,
          "output_type": "execute_result",
          "data": {
            "text/plain": "dict_items([('Tawheed', {'Islam': 'Quran'}), ('Shirk1', {'Jew': 'Torah'}), ('Shirk2', {'Christain': 'Bible'})])"
          },
          "metadata": {}
        }
      ]
    },
    {
      "cell_type": "code",
      "source": "Categories['Tawheed']",
      "metadata": {
        "trusted": true
      },
      "execution_count": 320,
      "outputs": [
        {
          "execution_count": 320,
          "output_type": "execute_result",
          "data": {
            "text/plain": "{'Islam': 'Quran'}"
          },
          "metadata": {}
        }
      ]
    },
    {
      "cell_type": "code",
      "source": "Categories['Shirk1']['Jew']",
      "metadata": {
        "trusted": true
      },
      "execution_count": 321,
      "outputs": [
        {
          "execution_count": 321,
          "output_type": "execute_result",
          "data": {
            "text/plain": "'Torah'"
          },
          "metadata": {}
        }
      ]
    },
    {
      "cell_type": "code",
      "source": "",
      "metadata": {},
      "execution_count": null,
      "outputs": []
    }
  ]
}